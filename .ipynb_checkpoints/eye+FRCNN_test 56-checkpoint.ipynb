{
 "cells": [
  {
   "cell_type": "markdown",
   "metadata": {},
   "source": [
    "# EGH444 Demonstration Jupyter File\n",
    "\n",
    "Build based on example from [installation instructions](https://github.com/tensorflow/models/blob/master/research/object_detection/g3doc/installation.md)\n",
    "\n",
    "Source tensorflow used from [installation instructions](https://github.com/tensorflow/models/blob/master/research/object_detection/g3doc/installation.md)\n",
    "\n",
    "This and similar code available at *Guthub*"
   ]
  },
  {
   "cell_type": "markdown",
   "metadata": {},
   "source": [
    "# Imports"
   ]
  },
  {
   "cell_type": "code",
   "execution_count": 1,
   "metadata": {
    "scrolled": true
   },
   "outputs": [],
   "source": [
    "import numpy as np\n",
    "import os\n",
    "import six.moves.urllib as urllib\n",
    "import sys\n",
    "import tarfile\n",
    "import tensorflow as tf\n",
    "import zipfile\n",
    "\n",
    "from object_detection.utils import label_map_util\n",
    "from object_detection.utils import visualization_utils as vis_util\n",
    "\n",
    "from collections import defaultdict\n",
    "from io import StringIO\n",
    "from matplotlib import pyplot as plt\n",
    "from PIL import Image\n",
    "\n",
    "# Setting up environment\n",
    "# This is needed to display the images.\n",
    "%matplotlib inline\n",
    "\n",
    "# This is needed since the notebook is stored in the object_detection folder.\n",
    "sys.path.append(\"..\")"
   ]
  },
  {
   "cell_type": "markdown",
   "metadata": {},
   "source": [
    "# Model preparation "
   ]
  },
  {
   "cell_type": "markdown",
   "metadata": {},
   "source": [
    "## Variables\n",
    "\n",
    "Those variables used after creating inference graph."
   ]
  },
  {
   "cell_type": "code",
   "execution_count": 2,
   "metadata": {},
   "outputs": [],
   "source": [
    "\n",
    "# Path to frozen detection graph. This is the actual model that is used for the object detection.\n",
    "# PATH_TO_CKPT = 'output_incep_10/frozen_inference_graph.pb' # Fullview - 10h\n",
    "# PATH_TO_CKPT = 'output_incep_10_single/frozen_inference_graph.pb' # Single view 10h\n",
    "\n",
    "PATH_TO_CKPT = 'output_resnet_56/frozen_inference_graph.pb' # Single view 55h\n",
    "\n",
    "#PATH_TO_CKPT = 'output_gray_24/frozen_inference_graph.pb' # Single gray 24h\n",
    "\n",
    "#PATH_TO_CKPT = 'output_rgb_resnet_17/frozen_inference_graph.pb' # Single gray 24h\n",
    "\n",
    "# List of the strings that is used to add correct label for each box.\n",
    "PATH_TO_LABELS = 'label_full.pbtxt'\n",
    "\n",
    "NUM_CLASSES = 3"
   ]
  },
  {
   "cell_type": "markdown",
   "metadata": {},
   "source": [
    "## Loading label map\n",
    "Label maps map indices to category names, so that when our convolution network predicts `5`, we know that this corresponds to `airplane`.  Here we use internal utility functions, but anything that returns a dictionary mapping integers to appropriate string labels would be fine"
   ]
  },
  {
   "cell_type": "code",
   "execution_count": 3,
   "metadata": {},
   "outputs": [],
   "source": [
    "label_map = label_map_util.load_labelmap(PATH_TO_LABELS)\n",
    "categories = label_map_util.convert_label_map_to_categories(label_map, max_num_classes=NUM_CLASSES, use_display_name=True)\n",
    "category_index = label_map_util.create_category_index(categories)\n",
    "detection_graph = tf.Graph()\n",
    "\n",
    "# Loading graph\n",
    "with detection_graph.as_default():\n",
    "  od_graph_def = tf.GraphDef()\n",
    "  with tf.gfile.GFile(PATH_TO_CKPT, 'rb') as fid:\n",
    "    serialized_graph = fid.read()\n",
    "    od_graph_def.ParseFromString(serialized_graph)\n",
    "    tf.import_graph_def(od_graph_def, name='')\n",
    "\n",
    "# Support functions\n",
    "def load_image_into_numpy_array(image):\n",
    "    (im_width, im_height) = image.size    \n",
    "    return np.array(image.getdata()).reshape(\n",
    "      (im_height, im_width, 3)).astype(np.uint8)\n",
    "    "
   ]
  },
  {
   "cell_type": "markdown",
   "metadata": {},
   "source": [
    "# Detection"
   ]
  },
  {
   "cell_type": "code",
   "execution_count": 4,
   "metadata": {},
   "outputs": [],
   "source": [
    "# For range has to be set by number of images appeared in testing graph.\n",
    "PATH_TO_TEST_IMAGES_DIR = 'EYE_val'\n",
    "PATH_TO_SINGLE_IMAGES_DIR = 'EYE_valout_out'\n",
    "\n",
    "n_img = 10\n",
    "TEST_IMAGE_PATHS = [ os.path.join(PATH_TO_TEST_IMAGES_DIR, 'EYE_va{:02d}.jpg'.format(i)) for i in range(1, n_img) ] #11\n",
    "TEST_LEFT_PATHS = [ os.path.join(PATH_TO_SINGLE_IMAGES_DIR, 'EyeLeftTest{}.jpg'.format(i)) for i in range(1, n_img) ]\n",
    "TEST_RIGHT_PATHS = [ os.path.join(PATH_TO_SINGLE_IMAGES_DIR, 'EyeRightTest{}.jpg'.format(i)) for i in range(1, n_img) ]\n",
    "\n",
    "# Size, in inches, of the output images.\n",
    "IMAGE_SIZE = (12, 8)"
   ]
  },
  {
   "cell_type": "code",
   "execution_count": null,
   "metadata": {},
   "outputs": [],
   "source": [
    "with detection_graph.as_default():\n",
    "    with tf.Session(graph=detection_graph) as sess:\n",
    "\n",
    "        # Definite input and output Tensors for detection_graph\n",
    "        image_tensor = detection_graph.get_tensor_by_name('image_tensor:0')\n",
    "        # Each box represents a part of the image where a particular object was detected.\n",
    "        detection_boxes = detection_graph.get_tensor_by_name('detection_boxes:0')\n",
    "        # Each score represent how level of confidence for each of the objects.\n",
    "        # Score is shown on the result image, together with the class label.\n",
    "        detection_scores = detection_graph.get_tensor_by_name('detection_scores:0')\n",
    "        detection_classes = detection_graph.get_tensor_by_name('detection_classes:0')\n",
    "        num_detections = detection_graph.get_tensor_by_name('num_detections:0')\n",
    "        for image_path in TEST_IMAGE_PATHS:\n",
    "          image = Image.open(image_path)\n",
    "          # the array based representation of the image will be used later in order to prepare the\n",
    "          # result image with boxes and labels on it.\n",
    "\n",
    "          # Frayscale tp 3D array      \n",
    "    #       new_img = np.stack((image,)*3, -1)\n",
    "    #       image = Image.fromarray(new_img)\n",
    "\n",
    "          # Save (if necessary)\n",
    "          #file, ext = os.path.splitext(image_path)\n",
    "          #image.save(file + \".thumbnail\", \"JPEG\")\n",
    "          #image = Image.open(file + \".thumbnail\") \n",
    "\n",
    "\n",
    "          ##\n",
    "          image_np = load_image_into_numpy_array(image)\n",
    "          # Expand dimensions since the model expects images to have shape: [1, None, None, 3]\n",
    "          image_np_expanded = np.expand_dims(image_np, axis=0)\n",
    "          # Actual detection.\n",
    "          (boxes, scores, classes, num) = sess.run(\n",
    "              [detection_boxes, detection_scores, detection_classes, num_detections],\n",
    "              feed_dict={image_tensor: image_np_expanded})\n",
    "          # Visualization of the results of a detection.\n",
    "          #print(np.squeeze(scores))\n",
    "          vis_util.visualize_boxes_and_labels_on_image_array(\n",
    "              image_np,\n",
    "              np.squeeze(boxes),\n",
    "              np.squeeze(classes).astype(np.int32),\n",
    "              np.squeeze(scores),\n",
    "              category_index,\n",
    "              use_normalized_coordinates=True,\n",
    "              max_boxes_to_draw=2,\n",
    "              min_score_thresh=.95,\n",
    "              groundtruth_box_visualization_color='black',\n",
    "              line_thickness=3)\n",
    "          # print (boxes, scores, classes)\n",
    "          plt.figure(figsize=IMAGE_SIZE)\n",
    "          plt.imshow(image_np)"
   ]
  },
  {
   "cell_type": "code",
   "execution_count": null,
   "metadata": {},
   "outputs": [],
   "source": []
  }
 ],
 "metadata": {
  "kernelspec": {
   "display_name": "Python [conda env:tensorflow]",
   "language": "python",
   "name": "conda-env-tensorflow-py"
  },
  "language_info": {
   "codemirror_mode": {
    "name": "ipython",
    "version": 3
   },
   "file_extension": ".py",
   "mimetype": "text/x-python",
   "name": "python",
   "nbconvert_exporter": "python",
   "pygments_lexer": "ipython3",
   "version": "3.6.6"
  }
 },
 "nbformat": 4,
 "nbformat_minor": 2
}
